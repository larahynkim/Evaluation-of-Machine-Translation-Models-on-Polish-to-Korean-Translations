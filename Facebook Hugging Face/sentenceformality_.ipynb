{
  "nbformat": 4,
  "nbformat_minor": 0,
  "metadata": {
    "colab": {
      "provenance": []
    },
    "kernelspec": {
      "name": "python3",
      "display_name": "Python 3"
    },
    "language_info": {
      "name": "python"
    }
  },
  "cells": [
    {
      "cell_type": "code",
      "execution_count": 3,
      "metadata": {
        "colab": {
          "base_uri": "https://localhost:8080/"
        },
        "id": "94ODLOzMLRJI",
        "outputId": "75800376-96e4-497a-90f6-bf2735199085"
      },
      "outputs": [
        {
          "output_type": "stream",
          "name": "stdout",
          "text": [
            "Formal Counts:\n",
            "Conversational / Everyday Phrases: 93\n",
            "Politics: 33\n",
            "Sports: 46\n",
            "Business: 56\n",
            "Health & Wellness: 60\n",
            "Food / Cuisine: 49\n",
            "Travel: 58\n",
            "Informal Counts:\n",
            "Conversational / Everyday Phrases: 57\n",
            "Politics: 27\n",
            "Sports: 14\n",
            "Business: 4\n",
            "Health & Wellness: 0\n",
            "Food / Cuisine: 1\n",
            "Travel: 2\n"
          ]
        }
      ],
      "source": [
        "import csv\n",
        "\n",
        "filename = 'mastercsv.csv'\n",
        "\n",
        "# Create dictionaries to store the count of formal and informal tags for each topic type\n",
        "formal_counts = {'Conversational / Everyday Phrases': 0, 'Politics': 0, 'Sports': 0, 'Business': 0, 'Health & Wellness': 0, 'Food / Cuisine': 0, 'Travel': 0}\n",
        "informal_counts = {'Conversational / Everyday Phrases': 0, 'Politics': 0, 'Sports': 0, 'Business': 0, 'Health & Wellness': 0, 'Food / Cuisine': 0, 'Travel': 0}\n",
        "\n",
        "# Open the CSV file and read the data\n",
        "with open(filename, 'r', encoding = 'utf-8') as csvfile:\n",
        "    reader = csv.reader(csvfile)\n",
        "    next(reader)  # skip the header row\n",
        "    for row in reader:\n",
        "        # Get the topic type from the 14th column\n",
        "        topic_type = row[13]\n",
        "        # Get the tag from the 7th column\n",
        "        tag = row[6]\n",
        "        # Count the tag for the corresponding topic type\n",
        "        if tag == 'Formal':\n",
        "            formal_counts[topic_type] += 1\n",
        "        elif tag == 'Informal':\n",
        "            informal_counts[topic_type] += 1\n",
        "\n",
        "# Print the results\n",
        "print(\"Formal Counts:\")\n",
        "for topic_type, count in formal_counts.items():\n",
        "    print(f\"{topic_type}: {count}\")\n",
        "print(\"Informal Counts:\")\n",
        "for topic_type, count in informal_counts.items():\n",
        "    print(f\"{topic_type}: {count}\")"
      ]
    }
  ]
}